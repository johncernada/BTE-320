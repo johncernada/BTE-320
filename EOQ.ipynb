{
  "nbformat": 4,
  "nbformat_minor": 0,
  "metadata": {
    "colab": {
      "provenance": [],
      "authorship_tag": "ABX9TyNSgYqrQBp++NOevcoEvR9c",
      "include_colab_link": true
    },
    "kernelspec": {
      "name": "python3",
      "display_name": "Python 3"
    },
    "language_info": {
      "name": "python"
    }
  },
  "cells": [
    {
      "cell_type": "markdown",
      "metadata": {
        "id": "view-in-github",
        "colab_type": "text"
      },
      "source": [
        "<a href=\"https://colab.research.google.com/github/johncernada/BTE-320/blob/main/EOQ.ipynb\" target=\"_parent\"><img src=\"https://colab.research.google.com/assets/colab-badge.svg\" alt=\"Open In Colab\"/></a>"
      ]
    },
    {
      "cell_type": "code",
      "execution_count": null,
      "metadata": {
        "id": "VKgAsoxAPZGV"
      },
      "outputs": [],
      "source": [
        "# Calculate EOQ\n",
        "\n",
        "#Inputs: demand, reorder cost, holding cost\n",
        "demand = float(input(\"Enter the projected demand (units/year): \"))\n",
        "reorderCost = float(input(\"Enter the reorder cost ($/order): \"))\n",
        "holdingCost = float(input(\"Enter the holding cost ($/year/unit): \"))\n",
        "\n",
        "#Process: calculate EOQ\n",
        "eoq = (2 * demand * reorderCost / holdingCost) ** 0.5\n",
        "\n",
        "#Output: display EOQ value\n",
        "print(f\"Economic Order Quantity: {eoq}\")"
      ]
    },
    {
      "cell_type": "code",
      "source": [],
      "metadata": {
        "id": "sdTRfflcPgAL"
      },
      "execution_count": null,
      "outputs": []
    }
  ]
}