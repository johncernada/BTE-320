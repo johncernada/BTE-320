{
  "nbformat": 4,
  "nbformat_minor": 0,
  "metadata": {
    "colab": {
      "provenance": [],
      "authorship_tag": "ABX9TyPxobl3yum7Au6SaPtaYYKl",
      "include_colab_link": true
    },
    "kernelspec": {
      "name": "python3",
      "display_name": "Python 3"
    },
    "language_info": {
      "name": "python"
    }
  },
  "cells": [
    {
      "cell_type": "markdown",
      "metadata": {
        "id": "view-in-github",
        "colab_type": "text"
      },
      "source": [
        "<a href=\"https://colab.research.google.com/github/johncernada/BTE-320/blob/main/ClassAssignment9_15_25.ipynb\" target=\"_parent\"><img src=\"https://colab.research.google.com/assets/colab-badge.svg\" alt=\"Open In Colab\"/></a>"
      ]
    },
    {
      "cell_type": "code",
      "source": [
        "n1 = float(input(\"Enter n1:\"))\n",
        "n2 = float(input(\"Enter n2:\"))\n",
        "s = input(\"enter operator (+,-,*,/,//,**,%): \")\n",
        "\n",
        "if s == \"+\":\n",
        "  res = n1 + n2\n",
        "elif s == \"-\":\n",
        "  res = n1 - n2\n",
        "elif s == \"*\":\n",
        "  res = n1 * n2\n",
        "elif s == \"/\":\n",
        "  res = n1 / n2\n",
        "elif s == \"//\":\n",
        "  res = n1 // n2\n",
        "elif s == \"%\":\n",
        "  res = n1 % n2\n",
        "elif s == \"**\":\n",
        "  res = n1 ** n2\n",
        "else:\n",
        "  res = None\n",
        "  print(\"invalid operator\")\n",
        "\n",
        "print(f\"result: {res}\")"
      ],
      "metadata": {
        "colab": {
          "base_uri": "https://localhost:8080/"
        },
        "id": "rN4-JaLtT1hX",
        "outputId": "80847ad4-4e86-41ea-8b63-58de6a0f2987"
      },
      "execution_count": 2,
      "outputs": [
        {
          "output_type": "stream",
          "name": "stdout",
          "text": [
            "Enter n1:5\n",
            "Enter n2:10\n",
            "enter operator (+,-,*,/,//,**,%): +\n",
            "result: 15.0\n"
          ]
        }
      ]
    },
    {
      "cell_type": "code",
      "execution_count": 2,
      "metadata": {
        "id": "_if0QyGgTn6m"
      },
      "outputs": [],
      "source": []
    }
  ]
}