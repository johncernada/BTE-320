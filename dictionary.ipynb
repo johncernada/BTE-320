{
  "nbformat": 4,
  "nbformat_minor": 0,
  "metadata": {
    "colab": {
      "provenance": [],
      "authorship_tag": "ABX9TyMt9rcmGYwOnIXuACMNn7r0",
      "include_colab_link": true
    },
    "kernelspec": {
      "name": "python3",
      "display_name": "Python 3"
    },
    "language_info": {
      "name": "python"
    }
  },
  "cells": [
    {
      "cell_type": "markdown",
      "metadata": {
        "id": "view-in-github",
        "colab_type": "text"
      },
      "source": [
        "<a href=\"https://colab.research.google.com/github/johncernada/BTE-320/blob/main/dictionary.ipynb\" target=\"_parent\"><img src=\"https://colab.research.google.com/assets/colab-badge.svg\" alt=\"Open In Colab\"/></a>"
      ]
    },
    {
      "cell_type": "code",
      "execution_count": null,
      "metadata": {
        "id": "NwbuK4ojQpzl"
      },
      "outputs": [],
      "source": [
        "products = {\n",
        "'P-01': 9.95,\n",
        "'P-02': 10.50\n",
        "}\n",
        "\n",
        "id = input('Enter product ID: ')\n",
        "\n",
        "if id in products:\n",
        "        print(f'ID: {id}, Price:{products[id]}$')\n",
        "else:\n",
        "        print(f'{id} not found')"
      ]
    },
    {
      "cell_type": "code",
      "source": [],
      "metadata": {
        "id": "SVt3ZAlPQqic"
      },
      "execution_count": null,
      "outputs": []
    }
  ]
}