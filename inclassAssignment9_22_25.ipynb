{
  "nbformat": 4,
  "nbformat_minor": 0,
  "metadata": {
    "colab": {
      "provenance": [],
      "authorship_tag": "ABX9TyP0T3dRwmdISVLIM37gAHqz",
      "include_colab_link": true
    },
    "kernelspec": {
      "name": "python3",
      "display_name": "Python 3"
    },
    "language_info": {
      "name": "python"
    }
  },
  "cells": [
    {
      "cell_type": "markdown",
      "metadata": {
        "id": "view-in-github",
        "colab_type": "text"
      },
      "source": [
        "<a href=\"https://colab.research.google.com/github/johncernada/BTE-320/blob/main/inclassAssignment9_22_25.ipynb\" target=\"_parent\"><img src=\"https://colab.research.google.com/assets/colab-badge.svg\" alt=\"Open In Colab\"/></a>"
      ]
    },
    {
      "cell_type": "code",
      "source": [
        "for ad in range(0, 201, 25):"
      ],
      "metadata": {
        "colab": {
          "base_uri": "https://localhost:8080/",
          "height": 108
        },
        "id": "y9lbUqZYQl0s",
        "outputId": "9fac7e9c-86a2-4b29-9d15-1a0005155c5c"
      },
      "execution_count": 2,
      "outputs": [
        {
          "output_type": "error",
          "ename": "SyntaxError",
          "evalue": "incomplete input (ipython-input-1348485567.py, line 1)",
          "traceback": [
            "\u001b[0;36m  File \u001b[0;32m\"/tmp/ipython-input-1348485567.py\"\u001b[0;36m, line \u001b[0;32m1\u001b[0m\n\u001b[0;31m    for ad in range(0, 201, 25):\u001b[0m\n\u001b[0m                                ^\u001b[0m\n\u001b[0;31mSyntaxError\u001b[0m\u001b[0;31m:\u001b[0m incomplete input\n"
          ]
        }
      ]
    },
    {
      "cell_type": "code",
      "source": [
        "for ad in range(0, 201, 25):\n",
        "  revenue = 20 * 10 + 10 * 2 * ad ** 0.5\n",
        "  expenses = 200 + ad\n",
        "  profit = revenue - expenses\n",
        "  print(ad, round(profit))\n"
      ],
      "metadata": {
        "colab": {
          "base_uri": "https://localhost:8080/"
        },
        "id": "nekIP5lbRkww",
        "outputId": "5b0c1496-dc4c-4bc9-e1f1-816d9da279d4"
      },
      "execution_count": 4,
      "outputs": [
        {
          "output_type": "stream",
          "name": "stdout",
          "text": [
            "0 0\n",
            "25 75\n",
            "50 91\n",
            "75 98\n",
            "100 100\n",
            "125 99\n",
            "150 95\n",
            "175 90\n",
            "200 83\n"
          ]
        }
      ]
    },
    {
      "cell_type": "code",
      "source": [],
      "metadata": {
        "id": "JnXuQIq6TMT8"
      },
      "execution_count": null,
      "outputs": []
    }
  ]
}