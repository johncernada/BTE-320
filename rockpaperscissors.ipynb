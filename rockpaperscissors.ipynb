{
  "nbformat": 4,
  "nbformat_minor": 0,
  "metadata": {
    "colab": {
      "provenance": [],
      "authorship_tag": "ABX9TyMgT2FV/IPRXnzMiITcCJ+a",
      "include_colab_link": true
    },
    "kernelspec": {
      "name": "python3",
      "display_name": "Python 3"
    },
    "language_info": {
      "name": "python"
    }
  },
  "cells": [
    {
      "cell_type": "markdown",
      "metadata": {
        "id": "view-in-github",
        "colab_type": "text"
      },
      "source": [
        "<a href=\"https://colab.research.google.com/github/johncernada/BTE-320/blob/main/rockpaperscissors.ipynb\" target=\"_parent\"><img src=\"https://colab.research.google.com/assets/colab-badge.svg\" alt=\"Open In Colab\"/></a>"
      ]
    },
    {
      "cell_type": "code",
      "execution_count": 1,
      "metadata": {
        "colab": {
          "base_uri": "https://localhost:8080/",
          "height": 108
        },
        "id": "TQ4yKOfDQeHi",
        "outputId": "4eb8a792-8e75-4c69-80ec-0ae2f07a3656"
      },
      "outputs": [
        {
          "output_type": "error",
          "ename": "SyntaxError",
          "evalue": "invalid non-printable character U+2002 (ipython-input-306465094.py, line 6)",
          "traceback": [
            "\u001b[0;36m  File \u001b[0;32m\"/tmp/ipython-input-306465094.py\"\u001b[0;36m, line \u001b[0;32m6\u001b[0m\n\u001b[0;31m    break\u001b[0m\n\u001b[0m    ^\u001b[0m\n\u001b[0;31mSyntaxError\u001b[0m\u001b[0;31m:\u001b[0m invalid non-printable character U+2002\n"
          ]
        }
      ],
      "source": [
        "import random\n",
        "\n",
        "while True:\n",
        "play = input('Do you want to play? ').strip().lower()\n",
        "if play == 'no': #or play != 'yes'\n",
        "   break\n",
        "# Rock, Paper, Scissors here...\n",
        "computer = random.choice(['rock', 'paper','scissors'])\n",
        "user = input(\"User choice (rock, paper, scissors): \").strip().lower()\n",
        "# Rock, Paper, Scissors here...\n",
        "\n",
        "if user == computer:\n",
        "    print(f'User:{user}, Computer:{computer}')\n",
        "    print('Draw')\n",
        "elif (\n",
        "(user == 'rock'and computer =='scissors') or\n",
        "(user == 'scissors'and computer =='paper') or\n",
        "(user == 'paper'and computer =='rock')):\n",
        "print(f'User:{user}, Computer:{computer}')\n",
        "print('You win!')\n",
        "else:\n",
        "print(f'User:{user}, Computer:{computer}')\n",
        "print('Computer wins')"
      ]
    },
    {
      "cell_type": "code",
      "source": [],
      "metadata": {
        "id": "zLn1ZO3NQf3V"
      },
      "execution_count": null,
      "outputs": []
    }
  ]
}