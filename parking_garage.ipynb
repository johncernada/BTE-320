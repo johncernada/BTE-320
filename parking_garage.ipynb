{
  "nbformat": 4,
  "nbformat_minor": 0,
  "metadata": {
    "colab": {
      "provenance": [],
      "authorship_tag": "ABX9TyOOnysKrxcdngCWBMjgKR2Y",
      "include_colab_link": true
    },
    "kernelspec": {
      "name": "python3",
      "display_name": "Python 3"
    },
    "language_info": {
      "name": "python"
    }
  },
  "cells": [
    {
      "cell_type": "markdown",
      "metadata": {
        "id": "view-in-github",
        "colab_type": "text"
      },
      "source": [
        "<a href=\"https://colab.research.google.com/github/johncernada/BTE-320/blob/main/parking_garage.ipynb\" target=\"_parent\"><img src=\"https://colab.research.google.com/assets/colab-badge.svg\" alt=\"Open In Colab\"/></a>"
      ]
    },
    {
      "cell_type": "code",
      "execution_count": null,
      "metadata": {
        "id": "YxDqmdQfP3kI"
      },
      "outputs": [],
      "source": [
        "print(\"# of hours\\tFee ($)\")\n",
        "print(\"--------------------\")\n",
        "for hours in range(1, 9):\n",
        "   fee = 5 + hours * 2.5\n",
        "   if fee < 10:\n",
        "    fee = 10.0\n",
        "    print(f\"{hours}\\t\\t{fee}\")\n",
        "   elif fee > 20:\n",
        "    fee = 20.0\n",
        "    print(f\"{hours}\\t\\t{fee}\")\n",
        "   else:\n",
        "    print(f\"{hours}\\t\\t{fee}”)"
      ]
    },
    {
      "cell_type": "code",
      "source": [],
      "metadata": {
        "id": "97ZV3iP6P6Hu"
      },
      "execution_count": null,
      "outputs": []
    }
  ]
}